{
 "cells": [
  {
   "cell_type": "code",
   "execution_count": 22,
   "metadata": {},
   "outputs": [],
   "source": [
    "class Pessoa:\n",
    "    def __init__(self, nome, endereco, idade):\n",
    "        self.nome = nome\n",
    "        self.endereco = endereco\n",
    "        self.idade = idade\n",
    "\n",
    "    def getEndereco(self):\n",
    "        return self.endereco\n",
    "\n",
    "    def setEndereco(self, endereco):\n",
    "        self.endereco = endereco"
   ]
  },
  {
   "cell_type": "code",
   "execution_count": 23,
   "metadata": {},
   "outputs": [],
   "source": [
    "pessoa = Pessoa('Jean', 'Rua Teste', 29)"
   ]
  },
  {
   "cell_type": "code",
   "execution_count": 24,
   "metadata": {},
   "outputs": [
    {
     "data": {
      "text/plain": [
       "'Rua Teste'"
      ]
     },
     "execution_count": 24,
     "metadata": {},
     "output_type": "execute_result"
    }
   ],
   "source": [
    "pessoa.endereco"
   ]
  },
  {
   "cell_type": "code",
   "execution_count": 27,
   "metadata": {},
   "outputs": [
    {
     "data": {
      "text/plain": [
       "'Rua Nova'"
      ]
     },
     "execution_count": 27,
     "metadata": {},
     "output_type": "execute_result"
    }
   ],
   "source": [
    "pessoa.getEndereco()"
   ]
  },
  {
   "cell_type": "code",
   "execution_count": 26,
   "metadata": {},
   "outputs": [],
   "source": [
    "pessoa.setEndereco('Rua Nova')"
   ]
  },
  {
   "attachments": {},
   "cell_type": "markdown",
   "metadata": {},
   "source": [
    "Exercício 2. Crie uma classe representando os alunos de um curso. A\n",
    "classe deve conter os atributos matrícula, nome, nota da\n",
    "primeira prova, nota da segunda prova e nota da terceira\n",
    "prova. Crie métodos para acessar o nome e a média do aluno.\n"
   ]
  },
  {
   "cell_type": "code",
   "execution_count": 42,
   "metadata": {},
   "outputs": [],
   "source": [
    "class Aluno:\n",
    "    def __init__(self, matricula, nome, nota1, nota2, nota3):\n",
    "        self.matricula = matricula\n",
    "        self.nome = nome\n",
    "        self.nota1 = float(nota1)\n",
    "        self.nota2 = float(nota2)\n",
    "        self.nota3 = float(nota3)\n",
    "\n",
    "    def getNome(self):\n",
    "        return self.nome\n",
    "\n",
    "    def getMedia(self):\n",
    "        media = float((self.nota1 + self.nota2 + self.nota3) / 3) \n",
    "        return media"
   ]
  },
  {
   "cell_type": "code",
   "execution_count": 48,
   "metadata": {},
   "outputs": [
    {
     "name": "stdout",
     "output_type": "stream",
     "text": [
      "O aluno Jean foi aprovado!\n",
      "O aluno Samuel foi aprovado!\n",
      "O aluno Emanuel foi reprovado!\n",
      "O aluno Marco foi aprovado!\n",
      "O aluno Guilherme foi reprovado!\n",
      "O aluno com maior média foi o Jean (8.0)\n",
      "O aluno com menor média foi o Emanuel (4.666666666666667)\n"
     ]
    }
   ],
   "source": [
    "lista_alunos = []\n",
    "\n",
    "for x in range(0, 5):\n",
    "    y = x+1\n",
    "    matricula = input('Informe a matrícula do aluno ' + str(y) +': ')\n",
    "    nome = input('Informe o nome do aluno ' + str(y) +': ')\n",
    "    nota1 = input('Informe a nota da primeira prova do aluno ' + str(y) +': ')\n",
    "    nota2 = input('Informe a nota da sgunda prova do aluno ' + str(y) +': ')\n",
    "    nota3 = input('Informe a nota da terceira prova do aluno ' + str(y) +': ')\n",
    "    lista_alunos.append(Aluno(matricula, nome, nota1, nota2, nota3))\n",
    "\n",
    "maior_media = 0\n",
    "aluno_maior_media = ''\n",
    "menor_media = 99\n",
    "aluno_menor_media = ''\n",
    "\n",
    "for aluno in lista_alunos:\n",
    "    if aluno.getMedia() > maior_media:\n",
    "        maior_media = aluno.getMedia()\n",
    "        aluno_maior_media = aluno.getNome()\n",
    "    \n",
    "    if aluno.getMedia() < menor_media:\n",
    "        menor_media = aluno.getMedia()\n",
    "        aluno_menor_media = aluno.getNome()\n",
    "\n",
    "    if aluno.getMedia() >= 7:\n",
    "        print(\"O aluno \" + aluno.getNome() + \" foi aprovado!\")\n",
    "    else:\n",
    "        print(\"O aluno \" + aluno.getNome() + \" foi reprovado!\")\n",
    "\n",
    "print(\"O aluno com maior média foi o \" + aluno_maior_media + \" (\" + str(maior_media) + \")\")\n",
    "print(\"O aluno com menor média foi o \" + aluno_menor_media + \" (\" + str(menor_media) + \")\")"
   ]
  }
 ],
 "metadata": {
  "kernelspec": {
   "display_name": "env_py",
   "language": "python",
   "name": "python3"
  },
  "language_info": {
   "codemirror_mode": {
    "name": "ipython",
    "version": 3
   },
   "file_extension": ".py",
   "mimetype": "text/x-python",
   "name": "python",
   "nbconvert_exporter": "python",
   "pygments_lexer": "ipython3",
   "version": "3.8.16"
  },
  "orig_nbformat": 4
 },
 "nbformat": 4,
 "nbformat_minor": 2
}
