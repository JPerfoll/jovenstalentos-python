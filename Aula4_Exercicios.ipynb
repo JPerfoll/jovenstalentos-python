{
 "cells": [
  {
   "cell_type": "code",
   "execution_count": 1,
   "metadata": {},
   "outputs": [
    {
     "name": "stdout",
     "output_type": "stream",
     "text": [
      "good\n"
     ]
    }
   ],
   "source": [
    "if ((7<0) and (0<-7)):\n",
    "    print(\"hello\")\n",
    "elif (7>0) or False:\n",
    "    print(\"good\")\n",
    "else:\n",
    "    print(\"bad\")"
   ]
  },
  {
   "cell_type": "code",
   "execution_count": 19,
   "metadata": {},
   "outputs": [],
   "source": [
    "def exercicioDois(numeroParametro):\n",
    "    numero = int(numeroParametro)\n",
    "    print(\"O número \" + str(numero) + \" tem como antecessor o número \" + str(numero-1) + \" e sucessor o número \" + str(numero+1))"
   ]
  },
  {
   "cell_type": "code",
   "execution_count": 20,
   "metadata": {},
   "outputs": [
    {
     "name": "stdout",
     "output_type": "stream",
     "text": [
      "O número 2 tem como antecessor o número 1 e sucessor o número 3\n"
     ]
    }
   ],
   "source": [
    "exercicioDois(2)"
   ]
  },
  {
   "cell_type": "code",
   "execution_count": 23,
   "metadata": {},
   "outputs": [
    {
     "ename": "SyntaxError",
     "evalue": "invalid syntax (1182382911.py, line 8)",
     "output_type": "error",
     "traceback": [
      "\u001b[0;36m  Cell \u001b[0;32mIn[23], line 8\u001b[0;36m\u001b[0m\n\u001b[0;31m    maior = numero1 if numero1 > numero 2 else numero2\u001b[0m\n\u001b[0m                                        ^\u001b[0m\n\u001b[0;31mSyntaxError\u001b[0m\u001b[0;31m:\u001b[0m invalid syntax\n"
     ]
    }
   ],
   "source": [
    "def exercicioTres(numero1, numero2):\n",
    "    numero1 = float(numero1)\n",
    "    numero2 = float(numero2)\n",
    "\n",
    "    if numero1 == numero2:\n",
    "        print(\"Números iguais\")\n",
    "    else:\n",
    "        maior = numero1 if numero1 > numero 2 else numero2\n",
    "        print(\"O número maior é o \" + str(maior))"
   ]
  }
 ],
 "metadata": {
  "kernelspec": {
   "display_name": "env_py",
   "language": "python",
   "name": "python3"
  },
  "language_info": {
   "codemirror_mode": {
    "name": "ipython",
    "version": 3
   },
   "file_extension": ".py",
   "mimetype": "text/x-python",
   "name": "python",
   "nbconvert_exporter": "python",
   "pygments_lexer": "ipython3",
   "version": "3.8.16"
  },
  "orig_nbformat": 4
 },
 "nbformat": 4,
 "nbformat_minor": 2
}
