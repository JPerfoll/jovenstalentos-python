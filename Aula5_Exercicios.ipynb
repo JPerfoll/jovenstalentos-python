{
 "cells": [
  {
   "attachments": {},
   "cell_type": "markdown",
   "metadata": {},
   "source": [
    "1. Fornecida uma string encontre a maior substring sem caracteres repetidos.\n",
    "Input: s = \"abcabcbb\"\n",
    "Output: 3\n",
    "Explicação: A resposta é \"abc\", com tamanho 3.\n",
    "Input: s = \"aaaa\"\n",
    "Output: 1\n"
   ]
  },
  {
   "cell_type": "code",
   "execution_count": 68,
   "metadata": {},
   "outputs": [],
   "source": [
    "def exercicio1(texto: str):\n",
    "    posicao=0\n",
    "    maximo=0\n",
    "\n",
    "    for i in range(len(texto)):\n",
    "        #print(i)\n",
    "        pedaco = texto[posicao:i+1]\n",
    "        #print(pedaco)\n",
    "        if (len(pedaco) == len(set(pedaco))):\n",
    "            maximo = max(len(pedaco), maximo)\n",
    "        else:\n",
    "            posicao += 1\n",
    "\n",
    "    return maximo"
   ]
  },
  {
   "cell_type": "code",
   "execution_count": 70,
   "metadata": {},
   "outputs": [
    {
     "data": {
      "text/plain": [
       "6"
      ]
     },
     "execution_count": 70,
     "metadata": {},
     "output_type": "execute_result"
    }
   ],
   "source": [
    "exercicio1('abcabcbbdefgh')"
   ]
  },
  {
   "attachments": {},
   "cell_type": "markdown",
   "metadata": {},
   "source": [
    "2. Desenvolva um programa que leia um número inteiro de qualquer tipo (entre str, int e float) e que apresente o número informado, seguido do seu antecessor e do seu\n",
    "sucessor.\n",
    "Input: '3'\n",
    "Output: 3, 2, 4\n",
    "Input: 3.6\n",
    "Output: 3, 2, 4"
   ]
  },
  {
   "cell_type": "code",
   "execution_count": 80,
   "metadata": {},
   "outputs": [],
   "source": [
    "def exercicio2(num):\n",
    "    numero = int(num)\n",
    "    prox = numero+1\n",
    "    ant = numero-1\n",
    "    return numero, ant, prox"
   ]
  },
  {
   "cell_type": "code",
   "execution_count": 81,
   "metadata": {},
   "outputs": [
    {
     "data": {
      "text/plain": [
       "(3, 2, 4)"
      ]
     },
     "execution_count": 81,
     "metadata": {},
     "output_type": "execute_result"
    }
   ],
   "source": [
    "exercicio2(3.6)"
   ]
  },
  {
   "attachments": {},
   "cell_type": "markdown",
   "metadata": {},
   "source": [
    "3. Escreva uma função chamada most_frequent que receba uma string e exiba as\n",
    "letras em ordem decrescente de frequência.\n",
    "Input: 'abbbgggggg'\n",
    "Output: ['g', 'b', 'a']\n"
   ]
  },
  {
   "cell_type": "code",
   "execution_count": 83,
   "metadata": {},
   "outputs": [],
   "source": [
    "def most_frequent(s: str):\n",
    "    hist = {}\n",
    "    for x in s:\n",
    "        hist[x] = hist.get(x, 0) + 1\n",
    "\n",
    "    t = []\n",
    "    for x, freq in hist.items():\n",
    "        t.append(freq,)"
   ]
  },
  {
   "cell_type": "code",
   "execution_count": 84,
   "metadata": {},
   "outputs": [
    {
     "name": "stdout",
     "output_type": "stream",
     "text": [
      "['a', 'b', 'b', 'b', 'g', 'g', 'g', 'g', 'g', 'g']\n"
     ]
    }
   ],
   "source": [
    "most_frequent('abbbgggggg')"
   ]
  },
  {
   "attachments": {},
   "cell_type": "markdown",
   "metadata": {},
   "source": [
    "Desafio\n",
    "4. Fornecido um int n, retorne a quantidade de números positivos menores ou iguais\n",
    "que n que contém o dígito 1. Dica: recursão ajuda\n",
    "Input: n = 13\n",
    "Output: 6\n"
   ]
  },
  {
   "cell_type": "code",
   "execution_count": null,
   "metadata": {},
   "outputs": [],
   "source": []
  },
  {
   "cell_type": "markdown",
   "metadata": {},
   "source": []
  },
  {
   "cell_type": "code",
   "execution_count": 87,
   "metadata": {},
   "outputs": [],
   "source": [
    "def gerar_matriz (n_linhas, n_colunas):\n",
    "        ''' \n",
    "          (int,int) -> matrix\n",
    "        '''\n",
    "        matriz = []\n",
    "        matriz.append(\" \")\n",
    "        matriz.append([\" \"]*n_linhas)\n",
    "\n",
    "        i = 0\n",
    "        while i < len(matriz):\n",
    "            matriz[i].append(\" \")\n",
    "            i += 1\n",
    "\n",
    "\n",
    "        return matriz"
   ]
  },
  {
   "cell_type": "code",
   "execution_count": 88,
   "metadata": {},
   "outputs": [
    {
     "ename": "AttributeError",
     "evalue": "'str' object has no attribute 'append'",
     "output_type": "error",
     "traceback": [
      "\u001b[0;31m---------------------------------------------------------------------------\u001b[0m",
      "\u001b[0;31mAttributeError\u001b[0m                            Traceback (most recent call last)",
      "Cell \u001b[0;32mIn[88], line 1\u001b[0m\n\u001b[0;32m----> 1\u001b[0m gerar_matriz(\u001b[39m10\u001b[39;49m,\u001b[39m9\u001b[39;49m)\n",
      "Cell \u001b[0;32mIn[87], line 11\u001b[0m, in \u001b[0;36mgerar_matriz\u001b[0;34m(n_linhas, n_colunas)\u001b[0m\n\u001b[1;32m      9\u001b[0m i \u001b[39m=\u001b[39m \u001b[39m0\u001b[39m\n\u001b[1;32m     10\u001b[0m \u001b[39mwhile\u001b[39;00m i \u001b[39m<\u001b[39m \u001b[39mlen\u001b[39m(matriz):\n\u001b[0;32m---> 11\u001b[0m     matriz[i]\u001b[39m.\u001b[39;49mappend(\u001b[39m\"\u001b[39m\u001b[39m \u001b[39m\u001b[39m\"\u001b[39m)\n\u001b[1;32m     12\u001b[0m     i \u001b[39m+\u001b[39m\u001b[39m=\u001b[39m \u001b[39m1\u001b[39m\n\u001b[1;32m     15\u001b[0m \u001b[39mreturn\u001b[39;00m matriz\n",
      "\u001b[0;31mAttributeError\u001b[0m: 'str' object has no attribute 'append'"
     ]
    }
   ],
   "source": [
    "gerar_matriz(10,9)"
   ]
  }
 ],
 "metadata": {
  "kernelspec": {
   "display_name": "env_py",
   "language": "python",
   "name": "python3"
  },
  "language_info": {
   "codemirror_mode": {
    "name": "ipython",
    "version": 3
   },
   "file_extension": ".py",
   "mimetype": "text/x-python",
   "name": "python",
   "nbconvert_exporter": "python",
   "pygments_lexer": "ipython3",
   "version": "3.8.16"
  },
  "orig_nbformat": 4
 },
 "nbformat": 4,
 "nbformat_minor": 2
}
